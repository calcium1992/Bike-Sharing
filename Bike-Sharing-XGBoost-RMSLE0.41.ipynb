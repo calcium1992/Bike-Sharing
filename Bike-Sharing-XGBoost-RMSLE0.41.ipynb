{
 "cells": [
  {
   "cell_type": "markdown",
   "metadata": {
    "ExecuteTime": {
     "end_time": "2020-10-17T02:58:27.534198Z",
     "start_time": "2020-10-17T02:58:26.418726Z"
    }
   },
   "source": [
    "Kaggle: https://www.lintcode.com/ai/bike-sharing/data"
   ]
  },
  {
   "cell_type": "code",
   "execution_count": 1,
   "metadata": {
    "ExecuteTime": {
     "end_time": "2020-12-04T05:24:56.426796Z",
     "start_time": "2020-12-04T05:24:55.282971Z"
    }
   },
   "outputs": [],
   "source": [
    "import numpy as np\n",
    "import pandas as pd\n",
    "import warnings\n",
    "warnings.filterwarnings('ignore')"
   ]
  },
  {
   "cell_type": "code",
   "execution_count": 2,
   "metadata": {
    "ExecuteTime": {
     "end_time": "2020-12-04T05:24:56.436479Z",
     "start_time": "2020-12-04T05:24:56.431592Z"
    }
   },
   "outputs": [],
   "source": [
    "TRAIN_DIR = './input/train.csv'\n",
    "TEST_DIR = './input/test.csv'"
   ]
  },
  {
   "cell_type": "markdown",
   "metadata": {},
   "source": [
    "# Explantory Data Analyisis - Take a Glance at the Data"
   ]
  },
  {
   "cell_type": "code",
   "execution_count": 3,
   "metadata": {
    "ExecuteTime": {
     "end_time": "2020-12-04T05:24:56.493597Z",
     "start_time": "2020-12-04T05:24:56.442922Z"
    }
   },
   "outputs": [
    {
     "name": "stdout",
     "output_type": "stream",
     "text": [
      "training set shape: (8600, 12)\n",
      "test set shape: (2286, 9)\n"
     ]
    }
   ],
   "source": [
    "train = pd.read_csv(TRAIN_DIR, sep=',', header=0)\n",
    "test = pd.read_csv(TEST_DIR, sep=',', header=0)\n",
    "print(f'training set shape: {train.shape}')\n",
    "print(f'test set shape: {test.shape}')"
   ]
  },
  {
   "cell_type": "code",
   "execution_count": 4,
   "metadata": {
    "ExecuteTime": {
     "end_time": "2020-12-04T05:24:56.534354Z",
     "start_time": "2020-12-04T05:24:56.497448Z"
    }
   },
   "outputs": [
    {
     "data": {
      "text/html": [
       "<div>\n",
       "<style scoped>\n",
       "    .dataframe tbody tr th:only-of-type {\n",
       "        vertical-align: middle;\n",
       "    }\n",
       "\n",
       "    .dataframe tbody tr th {\n",
       "        vertical-align: top;\n",
       "    }\n",
       "\n",
       "    .dataframe thead th {\n",
       "        text-align: right;\n",
       "    }\n",
       "</style>\n",
       "<table border=\"1\" class=\"dataframe\">\n",
       "  <thead>\n",
       "    <tr style=\"text-align: right;\">\n",
       "      <th></th>\n",
       "      <th>datetime</th>\n",
       "      <th>season</th>\n",
       "      <th>holiday</th>\n",
       "      <th>workingday</th>\n",
       "      <th>weather</th>\n",
       "      <th>temp</th>\n",
       "      <th>atemp</th>\n",
       "      <th>humidity</th>\n",
       "      <th>windspeed</th>\n",
       "      <th>casual</th>\n",
       "      <th>registered</th>\n",
       "      <th>count</th>\n",
       "    </tr>\n",
       "  </thead>\n",
       "  <tbody>\n",
       "    <tr>\n",
       "      <th>0</th>\n",
       "      <td>2011-01-01 00:00:00</td>\n",
       "      <td>1</td>\n",
       "      <td>0</td>\n",
       "      <td>0</td>\n",
       "      <td>1</td>\n",
       "      <td>9.84</td>\n",
       "      <td>14.395</td>\n",
       "      <td>81</td>\n",
       "      <td>0.0</td>\n",
       "      <td>3</td>\n",
       "      <td>13</td>\n",
       "      <td>16</td>\n",
       "    </tr>\n",
       "    <tr>\n",
       "      <th>1</th>\n",
       "      <td>2011-01-01 01:00:00</td>\n",
       "      <td>1</td>\n",
       "      <td>0</td>\n",
       "      <td>0</td>\n",
       "      <td>1</td>\n",
       "      <td>9.02</td>\n",
       "      <td>13.635</td>\n",
       "      <td>80</td>\n",
       "      <td>0.0</td>\n",
       "      <td>8</td>\n",
       "      <td>32</td>\n",
       "      <td>40</td>\n",
       "    </tr>\n",
       "    <tr>\n",
       "      <th>2</th>\n",
       "      <td>2011-01-01 02:00:00</td>\n",
       "      <td>1</td>\n",
       "      <td>0</td>\n",
       "      <td>0</td>\n",
       "      <td>1</td>\n",
       "      <td>9.02</td>\n",
       "      <td>13.635</td>\n",
       "      <td>80</td>\n",
       "      <td>0.0</td>\n",
       "      <td>5</td>\n",
       "      <td>27</td>\n",
       "      <td>32</td>\n",
       "    </tr>\n",
       "    <tr>\n",
       "      <th>3</th>\n",
       "      <td>2011-01-01 03:00:00</td>\n",
       "      <td>1</td>\n",
       "      <td>0</td>\n",
       "      <td>0</td>\n",
       "      <td>1</td>\n",
       "      <td>9.84</td>\n",
       "      <td>14.395</td>\n",
       "      <td>75</td>\n",
       "      <td>0.0</td>\n",
       "      <td>3</td>\n",
       "      <td>10</td>\n",
       "      <td>13</td>\n",
       "    </tr>\n",
       "    <tr>\n",
       "      <th>4</th>\n",
       "      <td>2011-01-01 04:00:00</td>\n",
       "      <td>1</td>\n",
       "      <td>0</td>\n",
       "      <td>0</td>\n",
       "      <td>1</td>\n",
       "      <td>9.84</td>\n",
       "      <td>14.395</td>\n",
       "      <td>75</td>\n",
       "      <td>0.0</td>\n",
       "      <td>0</td>\n",
       "      <td>1</td>\n",
       "      <td>1</td>\n",
       "    </tr>\n",
       "  </tbody>\n",
       "</table>\n",
       "</div>"
      ],
      "text/plain": [
       "              datetime  season  holiday  workingday  weather  temp   atemp  \\\n",
       "0  2011-01-01 00:00:00       1        0           0        1  9.84  14.395   \n",
       "1  2011-01-01 01:00:00       1        0           0        1  9.02  13.635   \n",
       "2  2011-01-01 02:00:00       1        0           0        1  9.02  13.635   \n",
       "3  2011-01-01 03:00:00       1        0           0        1  9.84  14.395   \n",
       "4  2011-01-01 04:00:00       1        0           0        1  9.84  14.395   \n",
       "\n",
       "   humidity  windspeed  casual  registered  count  \n",
       "0        81        0.0       3          13     16  \n",
       "1        80        0.0       8          32     40  \n",
       "2        80        0.0       5          27     32  \n",
       "3        75        0.0       3          10     13  \n",
       "4        75        0.0       0           1      1  "
      ]
     },
     "execution_count": 4,
     "metadata": {},
     "output_type": "execute_result"
    }
   ],
   "source": [
    "train.head()"
   ]
  },
  {
   "cell_type": "code",
   "execution_count": 5,
   "metadata": {
    "ExecuteTime": {
     "end_time": "2020-12-04T05:24:56.559281Z",
     "start_time": "2020-12-04T05:24:56.537720Z"
    }
   },
   "outputs": [
    {
     "data": {
      "text/html": [
       "<div>\n",
       "<style scoped>\n",
       "    .dataframe tbody tr th:only-of-type {\n",
       "        vertical-align: middle;\n",
       "    }\n",
       "\n",
       "    .dataframe tbody tr th {\n",
       "        vertical-align: top;\n",
       "    }\n",
       "\n",
       "    .dataframe thead th {\n",
       "        text-align: right;\n",
       "    }\n",
       "</style>\n",
       "<table border=\"1\" class=\"dataframe\">\n",
       "  <thead>\n",
       "    <tr style=\"text-align: right;\">\n",
       "      <th></th>\n",
       "      <th>datetime</th>\n",
       "      <th>season</th>\n",
       "      <th>holiday</th>\n",
       "      <th>workingday</th>\n",
       "      <th>weather</th>\n",
       "      <th>temp</th>\n",
       "      <th>atemp</th>\n",
       "      <th>humidity</th>\n",
       "      <th>windspeed</th>\n",
       "    </tr>\n",
       "  </thead>\n",
       "  <tbody>\n",
       "    <tr>\n",
       "      <th>0</th>\n",
       "      <td>2011-01-16 00:00:00</td>\n",
       "      <td>1</td>\n",
       "      <td>0</td>\n",
       "      <td>0</td>\n",
       "      <td>1</td>\n",
       "      <td>10.66</td>\n",
       "      <td>15.150</td>\n",
       "      <td>56</td>\n",
       "      <td>0.0000</td>\n",
       "    </tr>\n",
       "    <tr>\n",
       "      <th>1</th>\n",
       "      <td>2011-01-16 01:00:00</td>\n",
       "      <td>1</td>\n",
       "      <td>0</td>\n",
       "      <td>0</td>\n",
       "      <td>1</td>\n",
       "      <td>10.66</td>\n",
       "      <td>13.635</td>\n",
       "      <td>56</td>\n",
       "      <td>8.9981</td>\n",
       "    </tr>\n",
       "    <tr>\n",
       "      <th>2</th>\n",
       "      <td>2011-01-16 02:00:00</td>\n",
       "      <td>1</td>\n",
       "      <td>0</td>\n",
       "      <td>0</td>\n",
       "      <td>1</td>\n",
       "      <td>10.66</td>\n",
       "      <td>14.395</td>\n",
       "      <td>56</td>\n",
       "      <td>6.0032</td>\n",
       "    </tr>\n",
       "    <tr>\n",
       "      <th>3</th>\n",
       "      <td>2011-01-16 03:00:00</td>\n",
       "      <td>1</td>\n",
       "      <td>0</td>\n",
       "      <td>0</td>\n",
       "      <td>1</td>\n",
       "      <td>9.02</td>\n",
       "      <td>13.635</td>\n",
       "      <td>69</td>\n",
       "      <td>0.0000</td>\n",
       "    </tr>\n",
       "    <tr>\n",
       "      <th>4</th>\n",
       "      <td>2011-01-16 04:00:00</td>\n",
       "      <td>1</td>\n",
       "      <td>0</td>\n",
       "      <td>0</td>\n",
       "      <td>1</td>\n",
       "      <td>10.66</td>\n",
       "      <td>12.880</td>\n",
       "      <td>56</td>\n",
       "      <td>11.0014</td>\n",
       "    </tr>\n",
       "  </tbody>\n",
       "</table>\n",
       "</div>"
      ],
      "text/plain": [
       "              datetime  season  holiday  workingday  weather   temp   atemp  \\\n",
       "0  2011-01-16 00:00:00       1        0           0        1  10.66  15.150   \n",
       "1  2011-01-16 01:00:00       1        0           0        1  10.66  13.635   \n",
       "2  2011-01-16 02:00:00       1        0           0        1  10.66  14.395   \n",
       "3  2011-01-16 03:00:00       1        0           0        1   9.02  13.635   \n",
       "4  2011-01-16 04:00:00       1        0           0        1  10.66  12.880   \n",
       "\n",
       "   humidity  windspeed  \n",
       "0        56     0.0000  \n",
       "1        56     8.9981  \n",
       "2        56     6.0032  \n",
       "3        69     0.0000  \n",
       "4        56    11.0014  "
      ]
     },
     "execution_count": 5,
     "metadata": {},
     "output_type": "execute_result"
    }
   ],
   "source": [
    "test.head()"
   ]
  },
  {
   "cell_type": "markdown",
   "metadata": {},
   "source": [
    "Observations:<br>\n",
    "1.There are 8600 data points in training set and 2286 in test set.<br>\n",
    "2.There are 9 features."
   ]
  },
  {
   "cell_type": "code",
   "execution_count": 6,
   "metadata": {
    "ExecuteTime": {
     "end_time": "2020-12-04T05:24:56.666242Z",
     "start_time": "2020-12-04T05:24:56.563568Z"
    }
   },
   "outputs": [
    {
     "data": {
      "text/html": [
       "<div>\n",
       "<style scoped>\n",
       "    .dataframe tbody tr th:only-of-type {\n",
       "        vertical-align: middle;\n",
       "    }\n",
       "\n",
       "    .dataframe tbody tr th {\n",
       "        vertical-align: top;\n",
       "    }\n",
       "\n",
       "    .dataframe thead th {\n",
       "        text-align: right;\n",
       "    }\n",
       "</style>\n",
       "<table border=\"1\" class=\"dataframe\">\n",
       "  <thead>\n",
       "    <tr style=\"text-align: right;\">\n",
       "      <th></th>\n",
       "      <th>season</th>\n",
       "      <th>holiday</th>\n",
       "      <th>workingday</th>\n",
       "      <th>weather</th>\n",
       "      <th>temp</th>\n",
       "      <th>atemp</th>\n",
       "      <th>humidity</th>\n",
       "      <th>windspeed</th>\n",
       "      <th>casual</th>\n",
       "      <th>registered</th>\n",
       "      <th>count</th>\n",
       "    </tr>\n",
       "  </thead>\n",
       "  <tbody>\n",
       "    <tr>\n",
       "      <th>count</th>\n",
       "      <td>8600.000000</td>\n",
       "      <td>8600.000000</td>\n",
       "      <td>8600.000000</td>\n",
       "      <td>8600.00000</td>\n",
       "      <td>8600.000000</td>\n",
       "      <td>8600.000000</td>\n",
       "      <td>8600.000000</td>\n",
       "      <td>8600.000000</td>\n",
       "      <td>8600.000000</td>\n",
       "      <td>8600.000000</td>\n",
       "      <td>8600.000000</td>\n",
       "    </tr>\n",
       "    <tr>\n",
       "      <th>mean</th>\n",
       "      <td>2.505581</td>\n",
       "      <td>0.027791</td>\n",
       "      <td>0.682558</td>\n",
       "      <td>1.41000</td>\n",
       "      <td>20.119653</td>\n",
       "      <td>23.560989</td>\n",
       "      <td>61.590581</td>\n",
       "      <td>12.756693</td>\n",
       "      <td>35.689419</td>\n",
       "      <td>154.840814</td>\n",
       "      <td>190.530233</td>\n",
       "    </tr>\n",
       "    <tr>\n",
       "      <th>std</th>\n",
       "      <td>1.116628</td>\n",
       "      <td>0.164382</td>\n",
       "      <td>0.465508</td>\n",
       "      <td>0.63234</td>\n",
       "      <td>8.000975</td>\n",
       "      <td>8.690173</td>\n",
       "      <td>19.468443</td>\n",
       "      <td>8.209822</td>\n",
       "      <td>49.571896</td>\n",
       "      <td>150.760096</td>\n",
       "      <td>180.631042</td>\n",
       "    </tr>\n",
       "    <tr>\n",
       "      <th>min</th>\n",
       "      <td>1.000000</td>\n",
       "      <td>0.000000</td>\n",
       "      <td>0.000000</td>\n",
       "      <td>1.00000</td>\n",
       "      <td>0.820000</td>\n",
       "      <td>0.760000</td>\n",
       "      <td>0.000000</td>\n",
       "      <td>0.000000</td>\n",
       "      <td>0.000000</td>\n",
       "      <td>0.000000</td>\n",
       "      <td>1.000000</td>\n",
       "    </tr>\n",
       "    <tr>\n",
       "      <th>25%</th>\n",
       "      <td>2.000000</td>\n",
       "      <td>0.000000</td>\n",
       "      <td>0.000000</td>\n",
       "      <td>1.00000</td>\n",
       "      <td>13.940000</td>\n",
       "      <td>16.665000</td>\n",
       "      <td>46.000000</td>\n",
       "      <td>7.001500</td>\n",
       "      <td>4.000000</td>\n",
       "      <td>36.000000</td>\n",
       "      <td>41.000000</td>\n",
       "    </tr>\n",
       "    <tr>\n",
       "      <th>50%</th>\n",
       "      <td>3.000000</td>\n",
       "      <td>0.000000</td>\n",
       "      <td>1.000000</td>\n",
       "      <td>1.00000</td>\n",
       "      <td>20.500000</td>\n",
       "      <td>24.240000</td>\n",
       "      <td>61.000000</td>\n",
       "      <td>11.001400</td>\n",
       "      <td>16.000000</td>\n",
       "      <td>118.000000</td>\n",
       "      <td>144.000000</td>\n",
       "    </tr>\n",
       "    <tr>\n",
       "      <th>75%</th>\n",
       "      <td>4.000000</td>\n",
       "      <td>0.000000</td>\n",
       "      <td>1.000000</td>\n",
       "      <td>2.00000</td>\n",
       "      <td>27.060000</td>\n",
       "      <td>31.060000</td>\n",
       "      <td>78.000000</td>\n",
       "      <td>16.997900</td>\n",
       "      <td>48.000000</td>\n",
       "      <td>221.000000</td>\n",
       "      <td>282.000000</td>\n",
       "    </tr>\n",
       "    <tr>\n",
       "      <th>max</th>\n",
       "      <td>4.000000</td>\n",
       "      <td>1.000000</td>\n",
       "      <td>1.000000</td>\n",
       "      <td>4.00000</td>\n",
       "      <td>41.000000</td>\n",
       "      <td>45.455000</td>\n",
       "      <td>100.000000</td>\n",
       "      <td>56.996900</td>\n",
       "      <td>362.000000</td>\n",
       "      <td>886.000000</td>\n",
       "      <td>977.000000</td>\n",
       "    </tr>\n",
       "  </tbody>\n",
       "</table>\n",
       "</div>"
      ],
      "text/plain": [
       "            season      holiday   workingday     weather         temp  \\\n",
       "count  8600.000000  8600.000000  8600.000000  8600.00000  8600.000000   \n",
       "mean      2.505581     0.027791     0.682558     1.41000    20.119653   \n",
       "std       1.116628     0.164382     0.465508     0.63234     8.000975   \n",
       "min       1.000000     0.000000     0.000000     1.00000     0.820000   \n",
       "25%       2.000000     0.000000     0.000000     1.00000    13.940000   \n",
       "50%       3.000000     0.000000     1.000000     1.00000    20.500000   \n",
       "75%       4.000000     0.000000     1.000000     2.00000    27.060000   \n",
       "max       4.000000     1.000000     1.000000     4.00000    41.000000   \n",
       "\n",
       "             atemp     humidity    windspeed       casual   registered  \\\n",
       "count  8600.000000  8600.000000  8600.000000  8600.000000  8600.000000   \n",
       "mean     23.560989    61.590581    12.756693    35.689419   154.840814   \n",
       "std       8.690173    19.468443     8.209822    49.571896   150.760096   \n",
       "min       0.760000     0.000000     0.000000     0.000000     0.000000   \n",
       "25%      16.665000    46.000000     7.001500     4.000000    36.000000   \n",
       "50%      24.240000    61.000000    11.001400    16.000000   118.000000   \n",
       "75%      31.060000    78.000000    16.997900    48.000000   221.000000   \n",
       "max      45.455000   100.000000    56.996900   362.000000   886.000000   \n",
       "\n",
       "             count  \n",
       "count  8600.000000  \n",
       "mean    190.530233  \n",
       "std     180.631042  \n",
       "min       1.000000  \n",
       "25%      41.000000  \n",
       "50%     144.000000  \n",
       "75%     282.000000  \n",
       "max     977.000000  "
      ]
     },
     "execution_count": 6,
     "metadata": {},
     "output_type": "execute_result"
    }
   ],
   "source": [
    "train.describe()"
   ]
  },
  {
   "cell_type": "code",
   "execution_count": 7,
   "metadata": {
    "ExecuteTime": {
     "end_time": "2020-12-04T05:24:56.688692Z",
     "start_time": "2020-12-04T05:24:56.675570Z"
    }
   },
   "outputs": [
    {
     "data": {
      "text/plain": [
       "datetime      False\n",
       "season        False\n",
       "holiday       False\n",
       "workingday    False\n",
       "weather       False\n",
       "temp          False\n",
       "atemp         False\n",
       "humidity      False\n",
       "windspeed     False\n",
       "casual        False\n",
       "registered    False\n",
       "count         False\n",
       "dtype: bool"
      ]
     },
     "execution_count": 7,
     "metadata": {},
     "output_type": "execute_result"
    }
   ],
   "source": [
    "train.isnull().any()"
   ]
  },
  {
   "cell_type": "code",
   "execution_count": 8,
   "metadata": {
    "ExecuteTime": {
     "end_time": "2020-12-04T05:24:56.769353Z",
     "start_time": "2020-12-04T05:24:56.697661Z"
    }
   },
   "outputs": [
    {
     "data": {
      "text/html": [
       "<div>\n",
       "<style scoped>\n",
       "    .dataframe tbody tr th:only-of-type {\n",
       "        vertical-align: middle;\n",
       "    }\n",
       "\n",
       "    .dataframe tbody tr th {\n",
       "        vertical-align: top;\n",
       "    }\n",
       "\n",
       "    .dataframe thead th {\n",
       "        text-align: right;\n",
       "    }\n",
       "</style>\n",
       "<table border=\"1\" class=\"dataframe\">\n",
       "  <thead>\n",
       "    <tr style=\"text-align: right;\">\n",
       "      <th></th>\n",
       "      <th>season</th>\n",
       "      <th>holiday</th>\n",
       "      <th>workingday</th>\n",
       "      <th>weather</th>\n",
       "      <th>temp</th>\n",
       "      <th>atemp</th>\n",
       "      <th>humidity</th>\n",
       "      <th>windspeed</th>\n",
       "    </tr>\n",
       "  </thead>\n",
       "  <tbody>\n",
       "    <tr>\n",
       "      <th>count</th>\n",
       "      <td>2286.000000</td>\n",
       "      <td>2286.000000</td>\n",
       "      <td>2286.000000</td>\n",
       "      <td>2286.000000</td>\n",
       "      <td>2286.000000</td>\n",
       "      <td>2286.000000</td>\n",
       "      <td>2286.000000</td>\n",
       "      <td>2286.000000</td>\n",
       "    </tr>\n",
       "    <tr>\n",
       "      <th>mean</th>\n",
       "      <td>2.510499</td>\n",
       "      <td>0.031496</td>\n",
       "      <td>0.674541</td>\n",
       "      <td>1.450131</td>\n",
       "      <td>20.649221</td>\n",
       "      <td>24.009073</td>\n",
       "      <td>62.999563</td>\n",
       "      <td>12.960042</td>\n",
       "    </tr>\n",
       "    <tr>\n",
       "      <th>std</th>\n",
       "      <td>1.114701</td>\n",
       "      <td>0.174692</td>\n",
       "      <td>0.468649</td>\n",
       "      <td>0.638589</td>\n",
       "      <td>6.933237</td>\n",
       "      <td>7.600437</td>\n",
       "      <td>18.341652</td>\n",
       "      <td>7.991602</td>\n",
       "    </tr>\n",
       "    <tr>\n",
       "      <th>min</th>\n",
       "      <td>1.000000</td>\n",
       "      <td>0.000000</td>\n",
       "      <td>0.000000</td>\n",
       "      <td>1.000000</td>\n",
       "      <td>4.100000</td>\n",
       "      <td>6.060000</td>\n",
       "      <td>8.000000</td>\n",
       "      <td>0.000000</td>\n",
       "    </tr>\n",
       "    <tr>\n",
       "      <th>25%</th>\n",
       "      <td>2.000000</td>\n",
       "      <td>0.000000</td>\n",
       "      <td>0.000000</td>\n",
       "      <td>1.000000</td>\n",
       "      <td>15.580000</td>\n",
       "      <td>19.695000</td>\n",
       "      <td>49.000000</td>\n",
       "      <td>7.001500</td>\n",
       "    </tr>\n",
       "    <tr>\n",
       "      <th>50%</th>\n",
       "      <td>3.000000</td>\n",
       "      <td>0.000000</td>\n",
       "      <td>1.000000</td>\n",
       "      <td>1.000000</td>\n",
       "      <td>21.320000</td>\n",
       "      <td>24.240000</td>\n",
       "      <td>64.000000</td>\n",
       "      <td>12.998000</td>\n",
       "    </tr>\n",
       "    <tr>\n",
       "      <th>75%</th>\n",
       "      <td>4.000000</td>\n",
       "      <td>0.000000</td>\n",
       "      <td>1.000000</td>\n",
       "      <td>2.000000</td>\n",
       "      <td>25.420000</td>\n",
       "      <td>30.305000</td>\n",
       "      <td>77.000000</td>\n",
       "      <td>16.997900</td>\n",
       "    </tr>\n",
       "    <tr>\n",
       "      <th>max</th>\n",
       "      <td>4.000000</td>\n",
       "      <td>1.000000</td>\n",
       "      <td>1.000000</td>\n",
       "      <td>3.000000</td>\n",
       "      <td>38.540000</td>\n",
       "      <td>43.940000</td>\n",
       "      <td>100.000000</td>\n",
       "      <td>50.002100</td>\n",
       "    </tr>\n",
       "  </tbody>\n",
       "</table>\n",
       "</div>"
      ],
      "text/plain": [
       "            season      holiday   workingday      weather         temp  \\\n",
       "count  2286.000000  2286.000000  2286.000000  2286.000000  2286.000000   \n",
       "mean      2.510499     0.031496     0.674541     1.450131    20.649221   \n",
       "std       1.114701     0.174692     0.468649     0.638589     6.933237   \n",
       "min       1.000000     0.000000     0.000000     1.000000     4.100000   \n",
       "25%       2.000000     0.000000     0.000000     1.000000    15.580000   \n",
       "50%       3.000000     0.000000     1.000000     1.000000    21.320000   \n",
       "75%       4.000000     0.000000     1.000000     2.000000    25.420000   \n",
       "max       4.000000     1.000000     1.000000     3.000000    38.540000   \n",
       "\n",
       "             atemp     humidity    windspeed  \n",
       "count  2286.000000  2286.000000  2286.000000  \n",
       "mean     24.009073    62.999563    12.960042  \n",
       "std       7.600437    18.341652     7.991602  \n",
       "min       6.060000     8.000000     0.000000  \n",
       "25%      19.695000    49.000000     7.001500  \n",
       "50%      24.240000    64.000000    12.998000  \n",
       "75%      30.305000    77.000000    16.997900  \n",
       "max      43.940000   100.000000    50.002100  "
      ]
     },
     "execution_count": 8,
     "metadata": {},
     "output_type": "execute_result"
    }
   ],
   "source": [
    "test.describe()"
   ]
  },
  {
   "cell_type": "code",
   "execution_count": 9,
   "metadata": {
    "ExecuteTime": {
     "end_time": "2020-12-04T05:24:56.785089Z",
     "start_time": "2020-12-04T05:24:56.772578Z"
    }
   },
   "outputs": [
    {
     "data": {
      "text/plain": [
       "datetime      False\n",
       "season        False\n",
       "holiday       False\n",
       "workingday    False\n",
       "weather       False\n",
       "temp          False\n",
       "atemp         False\n",
       "humidity      False\n",
       "windspeed     False\n",
       "dtype: bool"
      ]
     },
     "execution_count": 9,
     "metadata": {},
     "output_type": "execute_result"
    }
   ],
   "source": [
    "test.isnull().any()"
   ]
  },
  {
   "cell_type": "markdown",
   "metadata": {},
   "source": [
    "Observations: <br>\n",
    "1.There are no missing data in training.<br>\n",
    "2.Four Categorical Features: 'season', 'holiday', 'working day' and 'weather'.<br>\n",
    "3.Four Numeric Features: 'temp', 'atemp', 'humidity', 'windspeed'.<br>\n",
    "4.One Datetime Feature: 'Datetime'.<br>\n",
    "5.Looking at the mean and stdev of 8 features in both the training set and test set, the values are similar, which means the distribuions are similar.<br>"
   ]
  },
  {
   "cell_type": "markdown",
   "metadata": {},
   "source": [
    "# Explantory Data Analyisis - Research on Label"
   ]
  },
  {
   "cell_type": "code",
   "execution_count": 10,
   "metadata": {
    "ExecuteTime": {
     "end_time": "2020-12-04T05:24:58.369372Z",
     "start_time": "2020-12-04T05:24:56.789292Z"
    }
   },
   "outputs": [],
   "source": [
    "import matplotlib.pyplot as plt\n",
    "import seaborn as sns\n",
    "%matplotlib inline"
   ]
  },
  {
   "cell_type": "code",
   "execution_count": 11,
   "metadata": {
    "ExecuteTime": {
     "end_time": "2020-12-04T05:24:58.381403Z",
     "start_time": "2020-12-04T05:24:58.375450Z"
    }
   },
   "outputs": [],
   "source": [
    "from scipy.stats import skew, norm"
   ]
  },
  {
   "cell_type": "code",
   "execution_count": 12,
   "metadata": {
    "ExecuteTime": {
     "end_time": "2020-12-04T05:24:59.027884Z",
     "start_time": "2020-12-04T05:24:58.386339Z"
    }
   },
   "outputs": [
    {
     "data": {
      "text/plain": [
       "1.239241376322606"
      ]
     },
     "execution_count": 12,
     "metadata": {},
     "output_type": "execute_result"
    },
    {
     "data": {
      "image/png": "[encoded data removed]",
      "text/plain": [
       "<Figure size 432x288 with 1 Axes>"
      ]
     },
     "metadata": {
      "needs_background": "light"
     },
     "output_type": "display_data"
    }
   ],
   "source": [
    "sns.distplot(train['count'], fit=norm)\n",
    "skew(train['count'])"
   ]
  },
  {
   "cell_type": "markdown",
   "metadata": {},
   "source": [
    "Observations:<br>\n",
    "1.The 'count' is integer within 1 to 977. It's a positive number. But most models' prediction is $(-\\inf, \\inf).$<br>\n",
    "2.The skewness of 'count' is far from zero. We want it as small as possible. <br>\n",
    "3.The evaluation function is $\\sqrt{(\\log(true+1)-\\log(pred+1)^2)}$, which is the MSE of $\\log(count+1)$. <br>\n",
    "4.Thus, we can take the $\\log(count+1)$ transformation."
   ]
  },
  {
   "cell_type": "code",
   "execution_count": 13,
   "metadata": {
    "ExecuteTime": {
     "end_time": "2020-12-04T05:24:59.057807Z",
     "start_time": "2020-12-04T05:24:59.031667Z"
    }
   },
   "outputs": [],
   "source": [
    "train['log_count'] = train['count'].apply(lambda x: np.log2(x + 1))"
   ]
  },
  {
   "cell_type": "code",
   "execution_count": 14,
   "metadata": {
    "ExecuteTime": {
     "end_time": "2020-12-04T05:24:59.569903Z",
     "start_time": "2020-12-04T05:24:59.062644Z"
    }
   },
   "outputs": [
    {
     "data": {
      "text/plain": [
       "-0.8494341585491002"
      ]
     },
     "execution_count": 14,
     "metadata": {},
     "output_type": "execute_result"
    },
    {
     "data": {
      "image/png": "[encoded data removed]",
      "text/plain": [
       "<Figure size 432x288 with 1 Axes>"
      ]
     },
     "metadata": {
      "needs_background": "light"
     },
     "output_type": "display_data"
    }
   ],
   "source": [
    "sns.distplot(train['log_count'], fit=norm)\n",
    "skew(train['log_count'])"
   ]
  },
  {
   "cell_type": "markdown",
   "metadata": {
    "ExecuteTime": {
     "end_time": "2020-12-03T23:10:03.645128Z",
     "start_time": "2020-12-03T23:10:03.636743Z"
    }
   },
   "source": [
    "Observations:<br>\n",
    "1.The skewness drops to 0.85."
   ]
  },
  {
   "cell_type": "markdown",
   "metadata": {},
   "source": [
    "# Explantory Data Analyisis - Research on Features"
   ]
  },
  {
   "cell_type": "markdown",
   "metadata": {},
   "source": [
    "1.Transform Feature 'datetime'"
   ]
  },
  {
   "cell_type": "code",
   "execution_count": 15,
   "metadata": {
    "ExecuteTime": {
     "end_time": "2020-12-04T05:24:59.579408Z",
     "start_time": "2020-12-04T05:24:59.574260Z"
    }
   },
   "outputs": [],
   "source": [
    "from datetime import date"
   ]
  },
  {
   "cell_type": "code",
   "execution_count": 16,
   "metadata": {
    "ExecuteTime": {
     "end_time": "2020-12-04T05:24:59.594409Z",
     "start_time": "2020-12-04T05:24:59.583637Z"
    }
   },
   "outputs": [],
   "source": [
    "def transform_datetime(dataset):    \n",
    "    dataset['year'] = dataset['datetime'].apply(lambda x: int(x[0:4]))\n",
    "    dataset['month'] = dataset['datetime'].apply(lambda x: int(x[5:7]))\n",
    "    dataset['day'] = dataset['datetime'].apply(lambda x: int(x[8:10]))\n",
    "    dataset['weekday'] = dataset['datetime'].apply(lambda x: date(*(int(i) for i in x[0:10].split('-'))).weekday() + 1)\n",
    "    dataset['hour'] = dataset['datetime'].apply(lambda x: int(x[11:13]))"
   ]
  },
  {
   "cell_type": "code",
   "execution_count": 17,
   "metadata": {
    "ExecuteTime": {
     "end_time": "2020-12-04T05:24:59.714234Z",
     "start_time": "2020-12-04T05:24:59.598508Z"
    }
   },
   "outputs": [],
   "source": [
    "transform_datetime(train)\n",
    "transform_datetime(test)"
   ]
  },
  {
   "cell_type": "code",
   "execution_count": 18,
   "metadata": {
    "ExecuteTime": {
     "end_time": "2020-12-04T05:24:59.747109Z",
     "start_time": "2020-12-04T05:24:59.718035Z"
    }
   },
   "outputs": [
    {
     "data": {
      "text/html": [
       "<div>\n",
       "<style scoped>\n",
       "    .dataframe tbody tr th:only-of-type {\n",
       "        vertical-align: middle;\n",
       "    }\n",
       "\n",
       "    .dataframe tbody tr th {\n",
       "        vertical-align: top;\n",
       "    }\n",
       "\n",
       "    .dataframe thead th {\n",
       "        text-align: right;\n",
       "    }\n",
       "</style>\n",
       "<table border=\"1\" class=\"dataframe\">\n",
       "  <thead>\n",
       "    <tr style=\"text-align: right;\">\n",
       "      <th></th>\n",
       "      <th>datetime</th>\n",
       "      <th>season</th>\n",
       "      <th>holiday</th>\n",
       "      <th>workingday</th>\n",
       "      <th>weather</th>\n",
       "      <th>temp</th>\n",
       "      <th>atemp</th>\n",
       "      <th>humidity</th>\n",
       "      <th>windspeed</th>\n",
       "      <th>casual</th>\n",
       "      <th>registered</th>\n",
       "      <th>count</th>\n",
       "      <th>log_count</th>\n",
       "      <th>year</th>\n",
       "      <th>month</th>\n",
       "      <th>day</th>\n",
       "      <th>weekday</th>\n",
       "      <th>hour</th>\n",
       "    </tr>\n",
       "  </thead>\n",
       "  <tbody>\n",
       "    <tr>\n",
       "      <th>0</th>\n",
       "      <td>2011-01-01 00:00:00</td>\n",
       "      <td>1</td>\n",
       "      <td>0</td>\n",
       "      <td>0</td>\n",
       "      <td>1</td>\n",
       "      <td>9.84</td>\n",
       "      <td>14.395</td>\n",
       "      <td>81</td>\n",
       "      <td>0.0</td>\n",
       "      <td>3</td>\n",
       "      <td>13</td>\n",
       "      <td>16</td>\n",
       "      <td>4.087463</td>\n",
       "      <td>2011</td>\n",
       "      <td>1</td>\n",
       "      <td>1</td>\n",
       "      <td>6</td>\n",
       "      <td>0</td>\n",
       "    </tr>\n",
       "    <tr>\n",
       "      <th>1</th>\n",
       "      <td>2011-01-01 01:00:00</td>\n",
       "      <td>1</td>\n",
       "      <td>0</td>\n",
       "      <td>0</td>\n",
       "      <td>1</td>\n",
       "      <td>9.02</td>\n",
       "      <td>13.635</td>\n",
       "      <td>80</td>\n",
       "      <td>0.0</td>\n",
       "      <td>8</td>\n",
       "      <td>32</td>\n",
       "      <td>40</td>\n",
       "      <td>5.357552</td>\n",
       "      <td>2011</td>\n",
       "      <td>1</td>\n",
       "      <td>1</td>\n",
       "      <td>6</td>\n",
       "      <td>1</td>\n",
       "    </tr>\n",
       "    <tr>\n",
       "      <th>2</th>\n",
       "      <td>2011-01-01 02:00:00</td>\n",
       "      <td>1</td>\n",
       "      <td>0</td>\n",
       "      <td>0</td>\n",
       "      <td>1</td>\n",
       "      <td>9.02</td>\n",
       "      <td>13.635</td>\n",
       "      <td>80</td>\n",
       "      <td>0.0</td>\n",
       "      <td>5</td>\n",
       "      <td>27</td>\n",
       "      <td>32</td>\n",
       "      <td>5.044394</td>\n",
       "      <td>2011</td>\n",
       "      <td>1</td>\n",
       "      <td>1</td>\n",
       "      <td>6</td>\n",
       "      <td>2</td>\n",
       "    </tr>\n",
       "    <tr>\n",
       "      <th>3</th>\n",
       "      <td>2011-01-01 03:00:00</td>\n",
       "      <td>1</td>\n",
       "      <td>0</td>\n",
       "      <td>0</td>\n",
       "      <td>1</td>\n",
       "      <td>9.84</td>\n",
       "      <td>14.395</td>\n",
       "      <td>75</td>\n",
       "      <td>0.0</td>\n",
       "      <td>3</td>\n",
       "      <td>10</td>\n",
       "      <td>13</td>\n",
       "      <td>3.807355</td>\n",
       "      <td>2011</td>\n",
       "      <td>1</td>\n",
       "      <td>1</td>\n",
       "      <td>6</td>\n",
       "      <td>3</td>\n",
       "    </tr>\n",
       "    <tr>\n",
       "      <th>4</th>\n",
       "      <td>2011-01-01 04:00:00</td>\n",
       "      <td>1</td>\n",
       "      <td>0</td>\n",
       "      <td>0</td>\n",
       "      <td>1</td>\n",
       "      <td>9.84</td>\n",
       "      <td>14.395</td>\n",
       "      <td>75</td>\n",
       "      <td>0.0</td>\n",
       "      <td>0</td>\n",
       "      <td>1</td>\n",
       "      <td>1</td>\n",
       "      <td>1.000000</td>\n",
       "      <td>2011</td>\n",
       "      <td>1</td>\n",
       "      <td>1</td>\n",
       "      <td>6</td>\n",
       "      <td>4</td>\n",
       "    </tr>\n",
       "  </tbody>\n",
       "</table>\n",
       "</div>"
      ],
      "text/plain": [
       "              datetime  season  holiday  workingday  weather  temp   atemp  \\\n",
       "0  2011-01-01 00:00:00       1        0           0        1  9.84  14.395   \n",
       "1  2011-01-01 01:00:00       1        0           0        1  9.02  13.635   \n",
       "2  2011-01-01 02:00:00       1        0           0        1  9.02  13.635   \n",
       "3  2011-01-01 03:00:00       1        0           0        1  9.84  14.395   \n",
       "4  2011-01-01 04:00:00       1        0           0        1  9.84  14.395   \n",
       "\n",
       "   humidity  windspeed  casual  registered  count  log_count  year  month  \\\n",
       "0        81        0.0       3          13     16   4.087463  2011      1   \n",
       "1        80        0.0       8          32     40   5.357552  2011      1   \n",
       "2        80        0.0       5          27     32   5.044394  2011      1   \n",
       "3        75        0.0       3          10     13   3.807355  2011      1   \n",
       "4        75        0.0       0           1      1   1.000000  2011      1   \n",
       "\n",
       "   day  weekday  hour  \n",
       "0    1        6     0  \n",
       "1    1        6     1  \n",
       "2    1        6     2  \n",
       "3    1        6     3  \n",
       "4    1        6     4  "
      ]
     },
     "execution_count": 18,
     "metadata": {},
     "output_type": "execute_result"
    }
   ],
   "source": [
    "train.head()"
   ]
  },
  {
   "cell_type": "markdown",
   "metadata": {},
   "source": [
    "2.Research in Numberic Features"
   ]
  },
  {
   "cell_type": "code",
   "execution_count": 19,
   "metadata": {
    "ExecuteTime": {
     "end_time": "2020-12-04T05:25:00.457253Z",
     "start_time": "2020-12-04T05:24:59.751034Z"
    }
   },
   "outputs": [],
   "source": [
    "from sklearn.feature_selection import mutual_info_regression"
   ]
  },
  {
   "cell_type": "code",
   "execution_count": 20,
   "metadata": {
    "ExecuteTime": {
     "end_time": "2020-12-04T05:25:00.464179Z",
     "start_time": "2020-12-04T05:25:00.460046Z"
    }
   },
   "outputs": [],
   "source": [
    "NUMERIC_COL = ['temp','atemp', 'humidity', 'windspeed']\n",
    "Y_COL = ['log_count']"
   ]
  },
  {
   "cell_type": "code",
   "execution_count": 21,
   "metadata": {
    "ExecuteTime": {
     "end_time": "2020-12-04T05:25:01.011442Z",
     "start_time": "2020-12-04T05:25:00.467376Z"
    }
   },
   "outputs": [
    {
     "data": {
      "text/plain": [
       "<AxesSubplot:>"
      ]
     },
     "execution_count": 21,
     "metadata": {},
     "output_type": "execute_result"
    },
    {
     "data": {
      "image/png": "[encoded data removed]",
      "text/plain": [
       "<Figure size 432x288 with 2 Axes>"
      ]
     },
     "metadata": {
      "needs_background": "light"
     },
     "output_type": "display_data"
    }
   ],
   "source": [
    "# Linear Correlation\n",
    "plt.subplots(figsize=(6, 4))\n",
    "sns.heatmap(train[NUMERIC_COL+Y_COL].corr(), annot=True, fmt='.2f')"
   ]
  },
  {
   "cell_type": "code",
   "execution_count": 22,
   "metadata": {
    "ExecuteTime": {
     "end_time": "2020-12-04T05:25:01.823288Z",
     "start_time": "2020-12-04T05:25:01.019374Z"
    }
   },
   "outputs": [
    {
     "data": {
      "text/plain": [
       "temp         0.161617\n",
       "atemp        0.144756\n",
       "humidity     0.105609\n",
       "windspeed    0.027990\n",
       "dtype: float64"
      ]
     },
     "execution_count": 22,
     "metadata": {},
     "output_type": "execute_result"
    }
   ],
   "source": [
    "# Non-linear Correlation\n",
    "mut_inf_reg = mutual_info_regression(train[NUMERIC_COL], train[Y_COL])\n",
    "pd.Series(mut_inf_reg, index=train[NUMERIC_COL].columns).sort_values(ascending=False)"
   ]
  },
  {
   "cell_type": "markdown",
   "metadata": {},
   "source": [
    "Observations:<br>\n",
    "1.Important Features: 'temp', 'atemp', 'humidity'."
   ]
  },
  {
   "cell_type": "markdown",
   "metadata": {},
   "source": [
    "3.Research in Categorical Features"
   ]
  },
  {
   "cell_type": "code",
   "execution_count": 23,
   "metadata": {
    "ExecuteTime": {
     "end_time": "2020-12-04T05:25:01.833050Z",
     "start_time": "2020-12-04T05:25:01.829513Z"
    }
   },
   "outputs": [],
   "source": [
    "CATEGORICAL_COL = ['season', 'holiday', 'workingday', 'weather', 'hour', 'year', 'month', 'day', 'weekday']"
   ]
  },
  {
   "cell_type": "code",
   "execution_count": 24,
   "metadata": {
    "ExecuteTime": {
     "end_time": "2020-12-04T05:25:05.310756Z",
     "start_time": "2020-12-04T05:25:01.836323Z"
    }
   },
   "outputs": [
    {
     "data": {
      "image/png": "[encoded data removed]",
      "text/plain": [
       "<Figure size 1008x864 with 9 Axes>"
      ]
     },
     "metadata": {
      "needs_background": "light"
     },
     "output_type": "display_data"
    }
   ],
   "source": [
    "fig, _ = plt.subplots(figsize=(14, 12))\n",
    "for i in range(9):\n",
    "    plt.subplot(f'33{str(i+1)}')\n",
    "    sns.boxplot(CATEGORICAL_COL[i], 'count', data=train)\n",
    "fig.tight_layout()"
   ]
  },
  {
   "cell_type": "markdown",
   "metadata": {
    "ExecuteTime": {
     "end_time": "2020-12-04T02:07:21.561252Z",
     "start_time": "2020-12-04T02:07:21.555728Z"
    }
   },
   "source": [
    "Observations:<br>\n",
    "1.Important Features: 'hour', 'season', 'year', 'month', 'weather'."
   ]
  },
  {
   "cell_type": "markdown",
   "metadata": {},
   "source": [
    "# Prepare Data"
   ]
  },
  {
   "cell_type": "code",
   "execution_count": 25,
   "metadata": {
    "ExecuteTime": {
     "end_time": "2020-12-04T05:25:05.324774Z",
     "start_time": "2020-12-04T05:25:05.313646Z"
    }
   },
   "outputs": [],
   "source": [
    "ID_COL = ['datetime']\n",
    "X_COL = NUMERIC_COL+CATEGORICAL_COL\n",
    "X_train, y_train = train[X_COL], train[Y_COL]\n",
    "X_test = test[ID_COL + X_COL]"
   ]
  },
  {
   "cell_type": "markdown",
   "metadata": {},
   "source": [
    "1.Get Dummies for Categorical Features"
   ]
  },
  {
   "cell_type": "code",
   "execution_count": 26,
   "metadata": {
    "ExecuteTime": {
     "end_time": "2020-12-04T05:25:05.357814Z",
     "start_time": "2020-12-04T05:25:05.327251Z"
    }
   },
   "outputs": [],
   "source": [
    "DUMMY_COL = ['season', 'holiday', 'workingday', 'weather']\n",
    "X_train = pd.get_dummies(X_train, columns = DUMMY_COL, drop_first=False)\n",
    "X_test = pd.get_dummies(X_test, columns = DUMMY_COL, drop_first=False)\n",
    "X_test['weather_4'] = 0 # There is no weather 4 in the test set."
   ]
  },
  {
   "cell_type": "code",
   "execution_count": 27,
   "metadata": {
    "ExecuteTime": {
     "end_time": "2020-12-04T05:25:05.369636Z",
     "start_time": "2020-12-04T05:25:05.362439Z"
    }
   },
   "outputs": [],
   "source": [
    "CATEGORICAL_COL = ['hour', 'year', 'month', 'day', 'weekday',\n",
    "                   'season_1', 'season_2', 'season_3', 'season_4', \n",
    "                   'holiday_0', 'holiday_1', \n",
    "                   'workingday_0', 'workingday_1', \n",
    "                   'weather_1', 'weather_2', 'weather_3', 'weather_4']\n",
    "X_COL = NUMERIC_COL + CATEGORICAL_COL"
   ]
  },
  {
   "cell_type": "markdown",
   "metadata": {},
   "source": [
    "2.Normalization"
   ]
  },
  {
   "cell_type": "code",
   "execution_count": 28,
   "metadata": {
    "ExecuteTime": {
     "end_time": "2020-12-04T05:25:05.382726Z",
     "start_time": "2020-12-04T05:25:05.375378Z"
    }
   },
   "outputs": [],
   "source": [
    "from sklearn.preprocessing import StandardScaler"
   ]
  },
  {
   "cell_type": "code",
   "execution_count": 29,
   "metadata": {
    "ExecuteTime": {
     "end_time": "2020-12-04T05:25:05.431682Z",
     "start_time": "2020-12-04T05:25:05.388630Z"
    }
   },
   "outputs": [],
   "source": [
    "scaler = StandardScaler()\n",
    "\n",
    "X_train = scaler.fit_transform(X_train)\n",
    "X_train = pd.DataFrame(X_train, columns=X_COL)\n",
    "\n",
    "test_ids, test_data = X_test[ID_COL], X_test[X_COL]\n",
    "X_test = pd.concat([test_ids, \n",
    "                    pd.DataFrame(scaler.transform(test_data), columns=X_COL)], \n",
    "                   axis=1)"
   ]
  },
  {
   "cell_type": "markdown",
   "metadata": {},
   "source": [
    "3.Take a Final for the Data"
   ]
  },
  {
   "cell_type": "code",
   "execution_count": 30,
   "metadata": {
    "ExecuteTime": {
     "end_time": "2020-12-04T05:25:05.485723Z",
     "start_time": "2020-12-04T05:25:05.435443Z"
    }
   },
   "outputs": [
    {
     "data": {
      "text/html": [
       "<div>\n",
       "<style scoped>\n",
       "    .dataframe tbody tr th:only-of-type {\n",
       "        vertical-align: middle;\n",
       "    }\n",
       "\n",
       "    .dataframe tbody tr th {\n",
       "        vertical-align: top;\n",
       "    }\n",
       "\n",
       "    .dataframe thead th {\n",
       "        text-align: right;\n",
       "    }\n",
       "</style>\n",
       "<table border=\"1\" class=\"dataframe\">\n",
       "  <thead>\n",
       "    <tr style=\"text-align: right;\">\n",
       "      <th></th>\n",
       "      <th>temp</th>\n",
       "      <th>atemp</th>\n",
       "      <th>humidity</th>\n",
       "      <th>windspeed</th>\n",
       "      <th>hour</th>\n",
       "      <th>year</th>\n",
       "      <th>month</th>\n",
       "      <th>day</th>\n",
       "      <th>weekday</th>\n",
       "      <th>season_1</th>\n",
       "      <th>...</th>\n",
       "      <th>season_3</th>\n",
       "      <th>season_4</th>\n",
       "      <th>holiday_0</th>\n",
       "      <th>holiday_1</th>\n",
       "      <th>workingday_0</th>\n",
       "      <th>workingday_1</th>\n",
       "      <th>weather_1</th>\n",
       "      <th>weather_2</th>\n",
       "      <th>weather_3</th>\n",
       "      <th>weather_4</th>\n",
       "    </tr>\n",
       "  </thead>\n",
       "  <tbody>\n",
       "    <tr>\n",
       "      <th>0</th>\n",
       "      <td>-1.284875</td>\n",
       "      <td>-1.054815</td>\n",
       "      <td>0.997026</td>\n",
       "      <td>-1.553924</td>\n",
       "      <td>-1.668536</td>\n",
       "      <td>-1.003028</td>\n",
       "      <td>-1.600774</td>\n",
       "      <td>-1.61915</td>\n",
       "      <td>0.991622</td>\n",
       "      <td>1.744492</td>\n",
       "      <td>...</td>\n",
       "      <td>-0.578603</td>\n",
       "      <td>-0.578961</td>\n",
       "      <td>0.169071</td>\n",
       "      <td>-0.169071</td>\n",
       "      <td>1.46635</td>\n",
       "      <td>-1.46635</td>\n",
       "      <td>0.703656</td>\n",
       "      <td>-0.58111</td>\n",
       "      <td>-0.29208</td>\n",
       "      <td>-0.010784</td>\n",
       "    </tr>\n",
       "    <tr>\n",
       "      <th>1</th>\n",
       "      <td>-1.387368</td>\n",
       "      <td>-1.142275</td>\n",
       "      <td>0.945658</td>\n",
       "      <td>-1.553924</td>\n",
       "      <td>-1.523927</td>\n",
       "      <td>-1.003028</td>\n",
       "      <td>-1.600774</td>\n",
       "      <td>-1.61915</td>\n",
       "      <td>0.991622</td>\n",
       "      <td>1.744492</td>\n",
       "      <td>...</td>\n",
       "      <td>-0.578603</td>\n",
       "      <td>-0.578961</td>\n",
       "      <td>0.169071</td>\n",
       "      <td>-0.169071</td>\n",
       "      <td>1.46635</td>\n",
       "      <td>-1.46635</td>\n",
       "      <td>0.703656</td>\n",
       "      <td>-0.58111</td>\n",
       "      <td>-0.29208</td>\n",
       "      <td>-0.010784</td>\n",
       "    </tr>\n",
       "    <tr>\n",
       "      <th>2</th>\n",
       "      <td>-1.387368</td>\n",
       "      <td>-1.142275</td>\n",
       "      <td>0.945658</td>\n",
       "      <td>-1.553924</td>\n",
       "      <td>-1.379318</td>\n",
       "      <td>-1.003028</td>\n",
       "      <td>-1.600774</td>\n",
       "      <td>-1.61915</td>\n",
       "      <td>0.991622</td>\n",
       "      <td>1.744492</td>\n",
       "      <td>...</td>\n",
       "      <td>-0.578603</td>\n",
       "      <td>-0.578961</td>\n",
       "      <td>0.169071</td>\n",
       "      <td>-0.169071</td>\n",
       "      <td>1.46635</td>\n",
       "      <td>-1.46635</td>\n",
       "      <td>0.703656</td>\n",
       "      <td>-0.58111</td>\n",
       "      <td>-0.29208</td>\n",
       "      <td>-0.010784</td>\n",
       "    </tr>\n",
       "    <tr>\n",
       "      <th>3</th>\n",
       "      <td>-1.284875</td>\n",
       "      <td>-1.054815</td>\n",
       "      <td>0.688817</td>\n",
       "      <td>-1.553924</td>\n",
       "      <td>-1.234709</td>\n",
       "      <td>-1.003028</td>\n",
       "      <td>-1.600774</td>\n",
       "      <td>-1.61915</td>\n",
       "      <td>0.991622</td>\n",
       "      <td>1.744492</td>\n",
       "      <td>...</td>\n",
       "      <td>-0.578603</td>\n",
       "      <td>-0.578961</td>\n",
       "      <td>0.169071</td>\n",
       "      <td>-0.169071</td>\n",
       "      <td>1.46635</td>\n",
       "      <td>-1.46635</td>\n",
       "      <td>0.703656</td>\n",
       "      <td>-0.58111</td>\n",
       "      <td>-0.29208</td>\n",
       "      <td>-0.010784</td>\n",
       "    </tr>\n",
       "    <tr>\n",
       "      <th>4</th>\n",
       "      <td>-1.284875</td>\n",
       "      <td>-1.054815</td>\n",
       "      <td>0.688817</td>\n",
       "      <td>-1.553924</td>\n",
       "      <td>-1.090100</td>\n",
       "      <td>-1.003028</td>\n",
       "      <td>-1.600774</td>\n",
       "      <td>-1.61915</td>\n",
       "      <td>0.991622</td>\n",
       "      <td>1.744492</td>\n",
       "      <td>...</td>\n",
       "      <td>-0.578603</td>\n",
       "      <td>-0.578961</td>\n",
       "      <td>0.169071</td>\n",
       "      <td>-0.169071</td>\n",
       "      <td>1.46635</td>\n",
       "      <td>-1.46635</td>\n",
       "      <td>0.703656</td>\n",
       "      <td>-0.58111</td>\n",
       "      <td>-0.29208</td>\n",
       "      <td>-0.010784</td>\n",
       "    </tr>\n",
       "  </tbody>\n",
       "</table>\n",
       "<p>5 rows × 21 columns</p>\n",
       "</div>"
      ],
      "text/plain": [
       "       temp     atemp  humidity  windspeed      hour      year     month  \\\n",
       "0 -1.284875 -1.054815  0.997026  -1.553924 -1.668536 -1.003028 -1.600774   \n",
       "1 -1.387368 -1.142275  0.945658  -1.553924 -1.523927 -1.003028 -1.600774   \n",
       "2 -1.387368 -1.142275  0.945658  -1.553924 -1.379318 -1.003028 -1.600774   \n",
       "3 -1.284875 -1.054815  0.688817  -1.553924 -1.234709 -1.003028 -1.600774   \n",
       "4 -1.284875 -1.054815  0.688817  -1.553924 -1.090100 -1.003028 -1.600774   \n",
       "\n",
       "       day   weekday  season_1  ...  season_3  season_4  holiday_0  holiday_1  \\\n",
       "0 -1.61915  0.991622  1.744492  ... -0.578603 -0.578961   0.169071  -0.169071   \n",
       "1 -1.61915  0.991622  1.744492  ... -0.578603 -0.578961   0.169071  -0.169071   \n",
       "2 -1.61915  0.991622  1.744492  ... -0.578603 -0.578961   0.169071  -0.169071   \n",
       "3 -1.61915  0.991622  1.744492  ... -0.578603 -0.578961   0.169071  -0.169071   \n",
       "4 -1.61915  0.991622  1.744492  ... -0.578603 -0.578961   0.169071  -0.169071   \n",
       "\n",
       "   workingday_0  workingday_1  weather_1  weather_2  weather_3  weather_4  \n",
       "0       1.46635      -1.46635   0.703656   -0.58111   -0.29208  -0.010784  \n",
       "1       1.46635      -1.46635   0.703656   -0.58111   -0.29208  -0.010784  \n",
       "2       1.46635      -1.46635   0.703656   -0.58111   -0.29208  -0.010784  \n",
       "3       1.46635      -1.46635   0.703656   -0.58111   -0.29208  -0.010784  \n",
       "4       1.46635      -1.46635   0.703656   -0.58111   -0.29208  -0.010784  \n",
       "\n",
       "[5 rows x 21 columns]"
      ]
     },
     "execution_count": 30,
     "metadata": {},
     "output_type": "execute_result"
    }
   ],
   "source": [
    "X_train.head()"
   ]
  },
  {
   "cell_type": "code",
   "execution_count": 31,
   "metadata": {
    "ExecuteTime": {
     "end_time": "2020-12-04T05:25:05.533068Z",
     "start_time": "2020-12-04T05:25:05.489216Z"
    }
   },
   "outputs": [
    {
     "data": {
      "text/html": [
       "<div>\n",
       "<style scoped>\n",
       "    .dataframe tbody tr th:only-of-type {\n",
       "        vertical-align: middle;\n",
       "    }\n",
       "\n",
       "    .dataframe tbody tr th {\n",
       "        vertical-align: top;\n",
       "    }\n",
       "\n",
       "    .dataframe thead th {\n",
       "        text-align: right;\n",
       "    }\n",
       "</style>\n",
       "<table border=\"1\" class=\"dataframe\">\n",
       "  <thead>\n",
       "    <tr style=\"text-align: right;\">\n",
       "      <th></th>\n",
       "      <th>datetime</th>\n",
       "      <th>temp</th>\n",
       "      <th>atemp</th>\n",
       "      <th>humidity</th>\n",
       "      <th>windspeed</th>\n",
       "      <th>hour</th>\n",
       "      <th>year</th>\n",
       "      <th>month</th>\n",
       "      <th>day</th>\n",
       "      <th>weekday</th>\n",
       "      <th>...</th>\n",
       "      <th>season_3</th>\n",
       "      <th>season_4</th>\n",
       "      <th>holiday_0</th>\n",
       "      <th>holiday_1</th>\n",
       "      <th>workingday_0</th>\n",
       "      <th>workingday_1</th>\n",
       "      <th>weather_1</th>\n",
       "      <th>weather_2</th>\n",
       "      <th>weather_3</th>\n",
       "      <th>weather_4</th>\n",
       "    </tr>\n",
       "  </thead>\n",
       "  <tbody>\n",
       "    <tr>\n",
       "      <th>0</th>\n",
       "      <td>2011-01-16 00:00:00</td>\n",
       "      <td>-1.182381</td>\n",
       "      <td>-0.967930</td>\n",
       "      <td>-0.287178</td>\n",
       "      <td>-1.553924</td>\n",
       "      <td>-1.668536</td>\n",
       "      <td>-1.003028</td>\n",
       "      <td>-1.600774</td>\n",
       "      <td>1.85161</td>\n",
       "      <td>1.492411</td>\n",
       "      <td>...</td>\n",
       "      <td>-0.578603</td>\n",
       "      <td>-0.578961</td>\n",
       "      <td>0.169071</td>\n",
       "      <td>-0.169071</td>\n",
       "      <td>1.46635</td>\n",
       "      <td>-1.46635</td>\n",
       "      <td>0.703656</td>\n",
       "      <td>-0.58111</td>\n",
       "      <td>-0.29208</td>\n",
       "      <td>-0.010784</td>\n",
       "    </tr>\n",
       "    <tr>\n",
       "      <th>1</th>\n",
       "      <td>2011-01-16 01:00:00</td>\n",
       "      <td>-1.182381</td>\n",
       "      <td>-1.142275</td>\n",
       "      <td>-0.287178</td>\n",
       "      <td>-0.457843</td>\n",
       "      <td>-1.523927</td>\n",
       "      <td>-1.003028</td>\n",
       "      <td>-1.600774</td>\n",
       "      <td>1.85161</td>\n",
       "      <td>1.492411</td>\n",
       "      <td>...</td>\n",
       "      <td>-0.578603</td>\n",
       "      <td>-0.578961</td>\n",
       "      <td>0.169071</td>\n",
       "      <td>-0.169071</td>\n",
       "      <td>1.46635</td>\n",
       "      <td>-1.46635</td>\n",
       "      <td>0.703656</td>\n",
       "      <td>-0.58111</td>\n",
       "      <td>-0.29208</td>\n",
       "      <td>-0.010784</td>\n",
       "    </tr>\n",
       "    <tr>\n",
       "      <th>2</th>\n",
       "      <td>2011-01-16 02:00:00</td>\n",
       "      <td>-1.182381</td>\n",
       "      <td>-1.054815</td>\n",
       "      <td>-0.287178</td>\n",
       "      <td>-0.822659</td>\n",
       "      <td>-1.379318</td>\n",
       "      <td>-1.003028</td>\n",
       "      <td>-1.600774</td>\n",
       "      <td>1.85161</td>\n",
       "      <td>1.492411</td>\n",
       "      <td>...</td>\n",
       "      <td>-0.578603</td>\n",
       "      <td>-0.578961</td>\n",
       "      <td>0.169071</td>\n",
       "      <td>-0.169071</td>\n",
       "      <td>1.46635</td>\n",
       "      <td>-1.46635</td>\n",
       "      <td>0.703656</td>\n",
       "      <td>-0.58111</td>\n",
       "      <td>-0.29208</td>\n",
       "      <td>-0.010784</td>\n",
       "    </tr>\n",
       "    <tr>\n",
       "      <th>3</th>\n",
       "      <td>2011-01-16 03:00:00</td>\n",
       "      <td>-1.387368</td>\n",
       "      <td>-1.142275</td>\n",
       "      <td>0.380608</td>\n",
       "      <td>-1.553924</td>\n",
       "      <td>-1.234709</td>\n",
       "      <td>-1.003028</td>\n",
       "      <td>-1.600774</td>\n",
       "      <td>1.85161</td>\n",
       "      <td>1.492411</td>\n",
       "      <td>...</td>\n",
       "      <td>-0.578603</td>\n",
       "      <td>-0.578961</td>\n",
       "      <td>0.169071</td>\n",
       "      <td>-0.169071</td>\n",
       "      <td>1.46635</td>\n",
       "      <td>-1.46635</td>\n",
       "      <td>0.703656</td>\n",
       "      <td>-0.58111</td>\n",
       "      <td>-0.29208</td>\n",
       "      <td>-0.010784</td>\n",
       "    </tr>\n",
       "    <tr>\n",
       "      <th>4</th>\n",
       "      <td>2011-01-16 04:00:00</td>\n",
       "      <td>-1.182381</td>\n",
       "      <td>-1.229160</td>\n",
       "      <td>-0.287178</td>\n",
       "      <td>-0.213816</td>\n",
       "      <td>-1.090100</td>\n",
       "      <td>-1.003028</td>\n",
       "      <td>-1.600774</td>\n",
       "      <td>1.85161</td>\n",
       "      <td>1.492411</td>\n",
       "      <td>...</td>\n",
       "      <td>-0.578603</td>\n",
       "      <td>-0.578961</td>\n",
       "      <td>0.169071</td>\n",
       "      <td>-0.169071</td>\n",
       "      <td>1.46635</td>\n",
       "      <td>-1.46635</td>\n",
       "      <td>0.703656</td>\n",
       "      <td>-0.58111</td>\n",
       "      <td>-0.29208</td>\n",
       "      <td>-0.010784</td>\n",
       "    </tr>\n",
       "  </tbody>\n",
       "</table>\n",
       "<p>5 rows × 22 columns</p>\n",
       "</div>"
      ],
      "text/plain": [
       "              datetime      temp     atemp  humidity  windspeed      hour  \\\n",
       "0  2011-01-16 00:00:00 -1.182381 -0.967930 -0.287178  -1.553924 -1.668536   \n",
       "1  2011-01-16 01:00:00 -1.182381 -1.142275 -0.287178  -0.457843 -1.523927   \n",
       "2  2011-01-16 02:00:00 -1.182381 -1.054815 -0.287178  -0.822659 -1.379318   \n",
       "3  2011-01-16 03:00:00 -1.387368 -1.142275  0.380608  -1.553924 -1.234709   \n",
       "4  2011-01-16 04:00:00 -1.182381 -1.229160 -0.287178  -0.213816 -1.090100   \n",
       "\n",
       "       year     month      day   weekday  ...  season_3  season_4  holiday_0  \\\n",
       "0 -1.003028 -1.600774  1.85161  1.492411  ... -0.578603 -0.578961   0.169071   \n",
       "1 -1.003028 -1.600774  1.85161  1.492411  ... -0.578603 -0.578961   0.169071   \n",
       "2 -1.003028 -1.600774  1.85161  1.492411  ... -0.578603 -0.578961   0.169071   \n",
       "3 -1.003028 -1.600774  1.85161  1.492411  ... -0.578603 -0.578961   0.169071   \n",
       "4 -1.003028 -1.600774  1.85161  1.492411  ... -0.578603 -0.578961   0.169071   \n",
       "\n",
       "   holiday_1  workingday_0  workingday_1  weather_1  weather_2  weather_3  \\\n",
       "0  -0.169071       1.46635      -1.46635   0.703656   -0.58111   -0.29208   \n",
       "1  -0.169071       1.46635      -1.46635   0.703656   -0.58111   -0.29208   \n",
       "2  -0.169071       1.46635      -1.46635   0.703656   -0.58111   -0.29208   \n",
       "3  -0.169071       1.46635      -1.46635   0.703656   -0.58111   -0.29208   \n",
       "4  -0.169071       1.46635      -1.46635   0.703656   -0.58111   -0.29208   \n",
       "\n",
       "   weather_4  \n",
       "0  -0.010784  \n",
       "1  -0.010784  \n",
       "2  -0.010784  \n",
       "3  -0.010784  \n",
       "4  -0.010784  \n",
       "\n",
       "[5 rows x 22 columns]"
      ]
     },
     "execution_count": 31,
     "metadata": {},
     "output_type": "execute_result"
    }
   ],
   "source": [
    "X_test.head()"
   ]
  },
  {
   "cell_type": "markdown",
   "metadata": {
    "ExecuteTime": {
     "end_time": "2020-11-29T03:43:54.015195Z",
     "start_time": "2020-11-29T03:43:54.011131Z"
    }
   },
   "source": [
    "# Evaluation with Cross Validation"
   ]
  },
  {
   "cell_type": "code",
   "execution_count": 32,
   "metadata": {
    "ExecuteTime": {
     "end_time": "2020-12-04T05:25:05.542648Z",
     "start_time": "2020-12-04T05:25:05.537256Z"
    }
   },
   "outputs": [],
   "source": [
    "from sklearn.model_selection import KFold, cross_val_score\n",
    "from sklearn.metrics import mean_squared_error"
   ]
  },
  {
   "cell_type": "code",
   "execution_count": 33,
   "metadata": {
    "ExecuteTime": {
     "end_time": "2020-12-04T05:25:05.553787Z",
     "start_time": "2020-12-04T05:25:05.546339Z"
    }
   },
   "outputs": [],
   "source": [
    "def rmse_cv(model, X_train, y_train):\n",
    "    kf = KFold(n_splits=5, shuffle=True, random_state=42)\n",
    "    mse = - cross_val_score(model, X_train, y_train, scoring='neg_mean_squared_error', cv=kf)\n",
    "    rmse = np.sqrt(mse)\n",
    "    return rmse.mean()"
   ]
  },
  {
   "cell_type": "markdown",
   "metadata": {},
   "source": [
    "# Models"
   ]
  },
  {
   "cell_type": "markdown",
   "metadata": {},
   "source": [
    "1.KNN"
   ]
  },
  {
   "cell_type": "code",
   "execution_count": 34,
   "metadata": {
    "ExecuteTime": {
     "end_time": "2020-12-04T05:25:07.152661Z",
     "start_time": "2020-12-04T05:25:05.556811Z"
    }
   },
   "outputs": [
    {
     "data": {
      "text/plain": [
       "1.3207042921759236"
      ]
     },
     "execution_count": 34,
     "metadata": {},
     "output_type": "execute_result"
    }
   ],
   "source": [
    "from sklearn.neighbors import KNeighborsRegressor\n",
    "rmse_cv(KNeighborsRegressor(n_neighbors=5), X_train, y_train)"
   ]
  },
  {
   "cell_type": "markdown",
   "metadata": {},
   "source": [
    "2.Regression Tree"
   ]
  },
  {
   "cell_type": "code",
   "execution_count": 35,
   "metadata": {
    "ExecuteTime": {
     "end_time": "2020-12-04T05:25:07.637152Z",
     "start_time": "2020-12-04T05:25:07.155729Z"
    }
   },
   "outputs": [
    {
     "data": {
      "text/plain": [
       "0.6246867317946982"
      ]
     },
     "execution_count": 35,
     "metadata": {},
     "output_type": "execute_result"
    }
   ],
   "source": [
    "from sklearn.tree import DecisionTreeRegressor\n",
    "rmse_cv(DecisionTreeRegressor(), X_train, y_train)"
   ]
  },
  {
   "cell_type": "markdown",
   "metadata": {},
   "source": [
    "3.Linear Regression"
   ]
  },
  {
   "cell_type": "code",
   "execution_count": 36,
   "metadata": {
    "ExecuteTime": {
     "end_time": "2020-12-04T05:25:07.779533Z",
     "start_time": "2020-12-04T05:25:07.641546Z"
    }
   },
   "outputs": [
    {
     "data": {
      "text/plain": [
       "1.4530857313004444"
      ]
     },
     "execution_count": 36,
     "metadata": {},
     "output_type": "execute_result"
    }
   ],
   "source": [
    "from sklearn.linear_model import LinearRegression\n",
    "rmse_cv(LinearRegression(), X_train, y_train)"
   ]
  },
  {
   "cell_type": "code",
   "execution_count": 37,
   "metadata": {
    "ExecuteTime": {
     "end_time": "2020-12-04T05:25:07.910193Z",
     "start_time": "2020-12-04T05:25:07.784026Z"
    }
   },
   "outputs": [
    {
     "data": {
      "text/plain": [
       "1.4530838820144534"
      ]
     },
     "execution_count": 37,
     "metadata": {},
     "output_type": "execute_result"
    }
   ],
   "source": [
    "from sklearn.linear_model import Ridge\n",
    "rmse_cv(Ridge(alpha=0.5), X_train, y_train)"
   ]
  },
  {
   "cell_type": "markdown",
   "metadata": {},
   "source": [
    "4.ElasticNet"
   ]
  },
  {
   "cell_type": "code",
   "execution_count": 38,
   "metadata": {
    "ExecuteTime": {
     "end_time": "2020-12-04T05:25:08.217256Z",
     "start_time": "2020-12-04T05:25:07.914583Z"
    }
   },
   "outputs": [
    {
     "data": {
      "text/plain": [
       "1.4538864370033902"
      ]
     },
     "execution_count": 38,
     "metadata": {},
     "output_type": "execute_result"
    }
   ],
   "source": [
    "from sklearn.linear_model import ElasticNet\n",
    "rmse_cv(ElasticNet(alpha=0.02, l1_ratio=0.8), X_train, y_train)"
   ]
  },
  {
   "cell_type": "markdown",
   "metadata": {},
   "source": [
    "5.GBDT"
   ]
  },
  {
   "cell_type": "code",
   "execution_count": 39,
   "metadata": {
    "ExecuteTime": {
     "end_time": "2020-12-04T05:27:05.194415Z",
     "start_time": "2020-12-04T05:25:08.221923Z"
    }
   },
   "outputs": [
    {
     "data": {
      "text/plain": [
       "0.41046983904441037"
      ]
     },
     "execution_count": 39,
     "metadata": {},
     "output_type": "execute_result"
    }
   ],
   "source": [
    "from sklearn.ensemble import GradientBoostingRegressor\n",
    "gb_r = GradientBoostingRegressor(\n",
    "    n_estimators=3000, learning_rate=0.05, max_depth=4, \n",
    "    max_features='sqrt', min_samples_leaf=15, min_samples_split=10, loss='huber')\n",
    "rmse_cv(gb_r, X_train, y_train)"
   ]
  },
  {
   "cell_type": "markdown",
   "metadata": {},
   "source": [
    "6.XGBOOST"
   ]
  },
  {
   "cell_type": "code",
   "execution_count": 40,
   "metadata": {
    "ExecuteTime": {
     "end_time": "2020-12-04T05:27:30.855195Z",
     "start_time": "2020-12-04T05:27:05.202029Z"
    }
   },
   "outputs": [
    {
     "data": {
      "text/plain": [
       "0.395290413268387"
      ]
     },
     "execution_count": 40,
     "metadata": {},
     "output_type": "execute_result"
    }
   ],
   "source": [
    "import xgboost as xgb\n",
    "xgb_r = xgb.XGBRegressor(\n",
    "    n_estimators=500, learning_rate=0.05, max_depth=5, gamma=0.048, \n",
    "    colsample_bytree=0.903, min_child_weight=0.7817, reg_alpha=0.7640, reg_lambda=0.8571,\n",
    "    subsample=0.8213, verbosity=0, n_jobs = -1)\n",
    "rmse_cv(xgb_r, X_train, y_train)"
   ]
  },
  {
   "cell_type": "markdown",
   "metadata": {},
   "source": [
    "Observation: <br>\n",
    "The best model is XGBOOST."
   ]
  },
  {
   "cell_type": "markdown",
   "metadata": {},
   "source": [
    "# Hyperparameter Tunning"
   ]
  },
  {
   "cell_type": "code",
   "execution_count": 41,
   "metadata": {
    "ExecuteTime": {
     "end_time": "2020-12-04T05:37:23.043514Z",
     "start_time": "2020-12-04T05:27:30.857532Z"
    }
   },
   "outputs": [
    {
     "name": "stdout",
     "output_type": "stream",
     "text": [
      "Fitting 5 folds for each of 15 candidates, totalling 75 fits\n",
      "[CV] max_depth=5, n_estimators=100 ...................................\n"
     ]
    },
    {
     "name": "stderr",
     "output_type": "stream",
     "text": [
      "[Parallel(n_jobs=1)]: Using backend SequentialBackend with 1 concurrent workers.\n"
     ]
    },
    {
     "name": "stdout",
     "output_type": "stream",
     "text": [
      "[CV] ...... max_depth=5, n_estimators=100, score=-0.970, total=   1.1s\n",
      "[CV] max_depth=5, n_estimators=100 ...................................\n"
     ]
    },
    {
     "name": "stderr",
     "output_type": "stream",
     "text": [
      "[Parallel(n_jobs=1)]: Done   1 out of   1 | elapsed:    1.1s remaining:    0.0s\n"
     ]
    },
    {
     "name": "stdout",
     "output_type": "stream",
     "text": [
      "[CV] ...... max_depth=5, n_estimators=100, score=-0.203, total=   1.1s\n",
      "[CV] max_depth=5, n_estimators=100 ...................................\n"
     ]
    },
    {
     "name": "stderr",
     "output_type": "stream",
     "text": [
      "[Parallel(n_jobs=1)]: Done   2 out of   2 | elapsed:    2.2s remaining:    0.0s\n"
     ]
    },
    {
     "name": "stdout",
     "output_type": "stream",
     "text": [
      "[CV] ...... max_depth=5, n_estimators=100, score=-0.339, total=   1.1s\n",
      "[CV] max_depth=5, n_estimators=100 ...................................\n"
     ]
    },
    {
     "name": "stderr",
     "output_type": "stream",
     "text": [
      "[Parallel(n_jobs=1)]: Done   3 out of   3 | elapsed:    3.3s remaining:    0.0s\n"
     ]
    },
    {
     "name": "stdout",
     "output_type": "stream",
     "text": [
      "[CV] ...... max_depth=5, n_estimators=100, score=-0.208, total=   1.0s\n",
      "[CV] max_depth=5, n_estimators=100 ...................................\n"
     ]
    },
    {
     "name": "stderr",
     "output_type": "stream",
     "text": [
      "[Parallel(n_jobs=1)]: Done   4 out of   4 | elapsed:    4.3s remaining:    0.0s\n"
     ]
    },
    {
     "name": "stdout",
     "output_type": "stream",
     "text": [
      "[CV] ...... max_depth=5, n_estimators=100, score=-0.223, total=   1.0s\n",
      "[CV] max_depth=5, n_estimators=200 ...................................\n"
     ]
    },
    {
     "name": "stderr",
     "output_type": "stream",
     "text": [
      "[Parallel(n_jobs=1)]: Done   5 out of   5 | elapsed:    5.3s remaining:    0.0s\n"
     ]
    },
    {
     "name": "stdout",
     "output_type": "stream",
     "text": [
      "[CV] ...... max_depth=5, n_estimators=200, score=-0.940, total=   2.0s\n",
      "[CV] max_depth=5, n_estimators=200 ...................................\n"
     ]
    },
    {
     "name": "stderr",
     "output_type": "stream",
     "text": [
      "[Parallel(n_jobs=1)]: Done   6 out of   6 | elapsed:    7.3s remaining:    0.0s\n"
     ]
    },
    {
     "name": "stdout",
     "output_type": "stream",
     "text": [
      "[CV] ...... max_depth=5, n_estimators=200, score=-0.209, total=   2.0s\n",
      "[CV] max_depth=5, n_estimators=200 ...................................\n",
      "[CV] ...... max_depth=5, n_estimators=200, score=-0.339, total=   2.0s\n",
      "[CV] max_depth=5, n_estimators=200 ...................................\n",
      "[CV] ...... max_depth=5, n_estimators=200, score=-0.208, total=   1.9s\n",
      "[CV] max_depth=5, n_estimators=200 ...................................\n",
      "[CV] ...... max_depth=5, n_estimators=200, score=-0.232, total=   2.0s\n",
      "[CV] max_depth=5, n_estimators=500 ...................................\n",
      "[CV] ...... max_depth=5, n_estimators=500, score=-0.995, total=   4.9s\n",
      "[CV] max_depth=5, n_estimators=500 ...................................\n",
      "[CV] ...... max_depth=5, n_estimators=500, score=-0.223, total=   4.9s\n",
      "[CV] max_depth=5, n_estimators=500 ...................................\n",
      "[CV] ...... max_depth=5, n_estimators=500, score=-0.344, total=   5.1s\n",
      "[CV] max_depth=5, n_estimators=500 ...................................\n",
      "[CV] ...... max_depth=5, n_estimators=500, score=-0.218, total=   5.4s\n",
      "[CV] max_depth=5, n_estimators=500 ...................................\n",
      "[CV] ...... max_depth=5, n_estimators=500, score=-0.239, total=   4.9s\n",
      "[CV] max_depth=5, n_estimators=1000 ..................................\n",
      "[CV] ..... max_depth=5, n_estimators=1000, score=-1.043, total=  10.4s\n",
      "[CV] max_depth=5, n_estimators=1000 ..................................\n",
      "[CV] ..... max_depth=5, n_estimators=1000, score=-0.233, total=  10.1s\n",
      "[CV] max_depth=5, n_estimators=1000 ..................................\n",
      "[CV] ..... max_depth=5, n_estimators=1000, score=-0.350, total=  10.0s\n",
      "[CV] max_depth=5, n_estimators=1000 ..................................\n",
      "[CV] ..... max_depth=5, n_estimators=1000, score=-0.227, total=  10.0s\n",
      "[CV] max_depth=5, n_estimators=1000 ..................................\n",
      "[CV] ..... max_depth=5, n_estimators=1000, score=-0.246, total=  10.2s\n",
      "[CV] max_depth=5, n_estimators=2000 ..................................\n",
      "[CV] ..... max_depth=5, n_estimators=2000, score=-1.118, total=  20.0s\n",
      "[CV] max_depth=5, n_estimators=2000 ..................................\n",
      "[CV] ..... max_depth=5, n_estimators=2000, score=-0.240, total=  20.2s\n",
      "[CV] max_depth=5, n_estimators=2000 ..................................\n",
      "[CV] ..... max_depth=5, n_estimators=2000, score=-0.355, total=  19.6s\n",
      "[CV] max_depth=5, n_estimators=2000 ..................................\n",
      "[CV] ..... max_depth=5, n_estimators=2000, score=-0.237, total=  20.5s\n",
      "[CV] max_depth=5, n_estimators=2000 ..................................\n",
      "[CV] ..... max_depth=5, n_estimators=2000, score=-0.249, total=  20.3s\n",
      "[CV] max_depth=6, n_estimators=100 ...................................\n",
      "[CV] ...... max_depth=6, n_estimators=100, score=-0.879, total=   1.2s\n",
      "[CV] max_depth=6, n_estimators=100 ...................................\n",
      "[CV] ...... max_depth=6, n_estimators=100, score=-0.218, total=   1.2s\n",
      "[CV] max_depth=6, n_estimators=100 ...................................\n",
      "[CV] ...... max_depth=6, n_estimators=100, score=-0.355, total=   1.2s\n",
      "[CV] max_depth=6, n_estimators=100 ...................................\n",
      "[CV] ...... max_depth=6, n_estimators=100, score=-0.219, total=   1.2s\n",
      "[CV] max_depth=6, n_estimators=100 ...................................\n",
      "[CV] ...... max_depth=6, n_estimators=100, score=-0.264, total=   1.2s\n",
      "[CV] max_depth=6, n_estimators=200 ...................................\n",
      "[CV] ...... max_depth=6, n_estimators=200, score=-0.844, total=   2.4s\n",
      "[CV] max_depth=6, n_estimators=200 ...................................\n",
      "[CV] ...... max_depth=6, n_estimators=200, score=-0.229, total=   2.4s\n",
      "[CV] max_depth=6, n_estimators=200 ...................................\n",
      "[CV] ...... max_depth=6, n_estimators=200, score=-0.357, total=   2.5s\n",
      "[CV] max_depth=6, n_estimators=200 ...................................\n",
      "[CV] ...... max_depth=6, n_estimators=200, score=-0.228, total=   2.5s\n",
      "[CV] max_depth=6, n_estimators=200 ...................................\n",
      "[CV] ...... max_depth=6, n_estimators=200, score=-0.264, total=   2.4s\n",
      "[CV] max_depth=6, n_estimators=500 ...................................\n",
      "[CV] ...... max_depth=6, n_estimators=500, score=-0.888, total=   5.8s\n",
      "[CV] max_depth=6, n_estimators=500 ...................................\n",
      "[CV] ...... max_depth=6, n_estimators=500, score=-0.237, total=   6.1s\n",
      "[CV] max_depth=6, n_estimators=500 ...................................\n",
      "[CV] ...... max_depth=6, n_estimators=500, score=-0.363, total=   5.9s\n",
      "[CV] max_depth=6, n_estimators=500 ...................................\n",
      "[CV] ...... max_depth=6, n_estimators=500, score=-0.238, total=   6.0s\n",
      "[CV] max_depth=6, n_estimators=500 ...................................\n",
      "[CV] ...... max_depth=6, n_estimators=500, score=-0.281, total=   6.0s\n",
      "[CV] max_depth=6, n_estimators=1000 ..................................\n",
      "[CV] ..... max_depth=6, n_estimators=1000, score=-0.886, total=  11.8s\n",
      "[CV] max_depth=6, n_estimators=1000 ..................................\n",
      "[CV] ..... max_depth=6, n_estimators=1000, score=-0.242, total=  12.1s\n",
      "[CV] max_depth=6, n_estimators=1000 ..................................\n",
      "[CV] ..... max_depth=6, n_estimators=1000, score=-0.363, total=  12.2s\n",
      "[CV] max_depth=6, n_estimators=1000 ..................................\n",
      "[CV] ..... max_depth=6, n_estimators=1000, score=-0.242, total=  12.4s\n",
      "[CV] max_depth=6, n_estimators=1000 ..................................\n",
      "[CV] ..... max_depth=6, n_estimators=1000, score=-0.285, total=  12.0s\n",
      "[CV] max_depth=6, n_estimators=2000 ..................................\n",
      "[CV] ..... max_depth=6, n_estimators=2000, score=-0.882, total=  19.1s\n",
      "[CV] max_depth=6, n_estimators=2000 ..................................\n",
      "[CV] ..... max_depth=6, n_estimators=2000, score=-0.242, total=  20.3s\n",
      "[CV] max_depth=6, n_estimators=2000 ..................................\n",
      "[CV] ..... max_depth=6, n_estimators=2000, score=-0.363, total=  19.7s\n",
      "[CV] max_depth=6, n_estimators=2000 ..................................\n",
      "[CV] ..... max_depth=6, n_estimators=2000, score=-0.242, total=  20.1s\n",
      "[CV] max_depth=6, n_estimators=2000 ..................................\n",
      "[CV] ..... max_depth=6, n_estimators=2000, score=-0.286, total=  20.4s\n",
      "[CV] max_depth=7, n_estimators=100 ...................................\n",
      "[CV] ...... max_depth=7, n_estimators=100, score=-1.109, total=   1.4s\n",
      "[CV] max_depth=7, n_estimators=100 ...................................\n",
      "[CV] ...... max_depth=7, n_estimators=100, score=-0.225, total=   1.4s\n",
      "[CV] max_depth=7, n_estimators=100 ...................................\n",
      "[CV] ...... max_depth=7, n_estimators=100, score=-0.403, total=   1.5s\n",
      "[CV] max_depth=7, n_estimators=100 ...................................\n",
      "[CV] ...... max_depth=7, n_estimators=100, score=-0.224, total=   1.4s\n",
      "[CV] max_depth=7, n_estimators=100 ...................................\n",
      "[CV] ...... max_depth=7, n_estimators=100, score=-0.255, total=   1.4s\n",
      "[CV] max_depth=7, n_estimators=200 ...................................\n",
      "[CV] ...... max_depth=7, n_estimators=200, score=-1.147, total=   2.9s\n",
      "[CV] max_depth=7, n_estimators=200 ...................................\n",
      "[CV] ...... max_depth=7, n_estimators=200, score=-0.231, total=   2.8s\n",
      "[CV] max_depth=7, n_estimators=200 ...................................\n",
      "[CV] ...... max_depth=7, n_estimators=200, score=-0.408, total=   2.9s\n",
      "[CV] max_depth=7, n_estimators=200 ...................................\n",
      "[CV] ...... max_depth=7, n_estimators=200, score=-0.228, total=   2.9s\n",
      "[CV] max_depth=7, n_estimators=200 ...................................\n",
      "[CV] ...... max_depth=7, n_estimators=200, score=-0.260, total=   2.9s\n",
      "[CV] max_depth=7, n_estimators=500 ...................................\n",
      "[CV] ...... max_depth=7, n_estimators=500, score=-1.158, total=   7.3s\n",
      "[CV] max_depth=7, n_estimators=500 ...................................\n",
      "[CV] ...... max_depth=7, n_estimators=500, score=-0.236, total=   6.9s\n",
      "[CV] max_depth=7, n_estimators=500 ...................................\n",
      "[CV] ...... max_depth=7, n_estimators=500, score=-0.408, total=   7.4s\n",
      "[CV] max_depth=7, n_estimators=500 ...................................\n",
      "[CV] ...... max_depth=7, n_estimators=500, score=-0.232, total=   7.1s\n",
      "[CV] max_depth=7, n_estimators=500 ...................................\n"
     ]
    },
    {
     "name": "stdout",
     "output_type": "stream",
     "text": [
      "[CV] ...... max_depth=7, n_estimators=500, score=-0.267, total=   7.2s\n",
      "[CV] max_depth=7, n_estimators=1000 ..................................\n",
      "[CV] ..... max_depth=7, n_estimators=1000, score=-1.160, total=  11.8s\n",
      "[CV] max_depth=7, n_estimators=1000 ..................................\n",
      "[CV] ..... max_depth=7, n_estimators=1000, score=-0.237, total=  12.0s\n",
      "[CV] max_depth=7, n_estimators=1000 ..................................\n",
      "[CV] ..... max_depth=7, n_estimators=1000, score=-0.409, total=  11.5s\n",
      "[CV] max_depth=7, n_estimators=1000 ..................................\n",
      "[CV] ..... max_depth=7, n_estimators=1000, score=-0.232, total=  11.7s\n",
      "[CV] max_depth=7, n_estimators=1000 ..................................\n",
      "[CV] ..... max_depth=7, n_estimators=1000, score=-0.268, total=  12.0s\n",
      "[CV] max_depth=7, n_estimators=2000 ..................................\n",
      "[CV] ..... max_depth=7, n_estimators=2000, score=-1.160, total=  14.5s\n",
      "[CV] max_depth=7, n_estimators=2000 ..................................\n",
      "[CV] ..... max_depth=7, n_estimators=2000, score=-0.237, total=  15.0s\n",
      "[CV] max_depth=7, n_estimators=2000 ..................................\n",
      "[CV] ..... max_depth=7, n_estimators=2000, score=-0.409, total=  14.3s\n",
      "[CV] max_depth=7, n_estimators=2000 ..................................\n",
      "[CV] ..... max_depth=7, n_estimators=2000, score=-0.232, total=  14.4s\n",
      "[CV] max_depth=7, n_estimators=2000 ..................................\n",
      "[CV] ..... max_depth=7, n_estimators=2000, score=-0.268, total=  14.4s\n"
     ]
    },
    {
     "name": "stderr",
     "output_type": "stream",
     "text": [
      "[Parallel(n_jobs=1)]: Done  75 out of  75 | elapsed:  9.8min finished\n"
     ]
    },
    {
     "data": {
      "text/plain": [
       "GridSearchCV(cv=5,\n",
       "             estimator=XGBRegressor(base_score=None, booster=None,\n",
       "                                    colsample_bylevel=None,\n",
       "                                    colsample_bynode=None,\n",
       "                                    colsample_bytree=None, gamma=None,\n",
       "                                    gpu_id=None, importance_type='gain',\n",
       "                                    interaction_constraints=None,\n",
       "                                    learning_rate=None, max_delta_step=None,\n",
       "                                    max_depth=None, min_child_weight=None,\n",
       "                                    missing=nan, monotone_constraints=None,\n",
       "                                    n_estimators=100, n_jobs=None,\n",
       "                                    num_parallel_tree=None, random_state=None,\n",
       "                                    reg_alpha=None, reg_lambda=None,\n",
       "                                    scale_pos_weight=None, subsample=None,\n",
       "                                    tree_method=None, validate_parameters=None,\n",
       "                                    verbosity=None),\n",
       "             param_grid={'max_depth': [5, 6, 7],\n",
       "                         'n_estimators': [100, 200, 500, 1000, 2000]},\n",
       "             scoring='neg_mean_squared_error', verbose=7)"
      ]
     },
     "execution_count": 41,
     "metadata": {},
     "output_type": "execute_result"
    }
   ],
   "source": [
    "from sklearn.model_selection import GridSearchCV\n",
    "grid_search = GridSearchCV(xgb.XGBRegressor(), scoring=\"neg_mean_squared_error\", cv=5, verbose=7,\n",
    "                  param_grid={\"n_estimators\": [100, 200, 500, 1000, 2000], \n",
    "                              \"max_depth\":[5, 6, 7]}, )\n",
    "grid_search.fit(X_train, y_train)"
   ]
  },
  {
   "cell_type": "code",
   "execution_count": 42,
   "metadata": {
    "ExecuteTime": {
     "end_time": "2020-12-04T05:37:23.052212Z",
     "start_time": "2020-12-04T05:37:23.046934Z"
    }
   },
   "outputs": [
    {
     "data": {
      "text/plain": [
       "{'max_depth': 6, 'n_estimators': 200}"
      ]
     },
     "execution_count": 42,
     "metadata": {},
     "output_type": "execute_result"
    }
   ],
   "source": [
    "grid_search.best_params_"
   ]
  },
  {
   "cell_type": "markdown",
   "metadata": {},
   "source": [
    "# Choose the Best Model and Predict"
   ]
  },
  {
   "cell_type": "code",
   "execution_count": 44,
   "metadata": {
    "ExecuteTime": {
     "end_time": "2020-12-04T05:49:26.359660Z",
     "start_time": "2020-12-04T05:49:23.601392Z"
    }
   },
   "outputs": [],
   "source": [
    "xgb_r = xgb.XGBRegressor(\n",
    "    n_estimators=200, learning_rate=0.05, max_depth=6, gamma=0.048, \n",
    "    colsample_bytree=0.903, min_child_weight=0.7817, reg_alpha=0.7640, reg_lambda=0.8571,\n",
    "    subsample=0.8213, verbosity=0, n_jobs = -1)\n",
    "xgb_r.fit(X_train, y_train)\n",
    "y_test_pred = xgb_r.predict(X_test[X_COL])\n",
    "pd.DataFrame({\"datetime\": X_test['datetime'], \n",
    "              \"count\": (2 ** (y_test_pred.reshape(-1)) - 1).astype(int)})\\\n",
    "             .to_csv('submission.csv',header=True, index=False)"
   ]
  }
 ],
 "metadata": {
  "kernelspec": {
   "display_name": "Python 3",
   "language": "python",
   "name": "python3"
  },
  "language_info": {
   "codemirror_mode": {
    "name": "ipython",
    "version": 3
   },
   "file_extension": ".py",
   "mimetype": "text/x-python",
   "name": "python",
   "nbconvert_exporter": "python",
   "pygments_lexer": "ipython3",
   "version": "3.8.3"
  },
  "toc": {
   "base_numbering": 1,
   "nav_menu": {},
   "number_sections": true,
   "sideBar": true,
   "skip_h1_title": false,
   "title_cell": "Table of Contents",
   "title_sidebar": "Contents",
   "toc_cell": false,
   "toc_position": {},
   "toc_section_display": true,
   "toc_window_display": false
  },
  "varInspector": {
   "cols": {
    "lenName": 16,
    "lenType": 16,
    "lenVar": 40
   },
   "kernels_config": {
    "python": {
     "delete_cmd_postfix": "",
     "delete_cmd_prefix": "del ",
     "library": "var_list.py",
     "varRefreshCmd": "print(var_dic_list())"
    },
    "r": {
     "delete_cmd_postfix": ") ",
     "delete_cmd_prefix": "rm(",
     "library": "var_list.r",
     "varRefreshCmd": "cat(var_dic_list()) "
    }
   },
   "types_to_exclude": [
    "module",
    "function",
    "builtin_function_or_method",
    "instance",
    "_Feature"
   ],
   "window_display": false
  }
 },
 "nbformat": 4,
 "nbformat_minor": 4
}
